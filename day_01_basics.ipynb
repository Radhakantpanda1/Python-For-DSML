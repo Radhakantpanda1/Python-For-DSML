{
 "cells": [
  {
   "cell_type": "markdown",
   "id": "112a1fed-7867-4949-a9e4-360e1ea3aca8",
   "metadata": {},
   "source": [
    "# Python KeyWords"
   ]
  },
  {
   "cell_type": "markdown",
   "id": "a8671720-b0e6-4202-9e57-ee3c20bc045e",
   "metadata": {},
   "source": [
    "Reserved words in Python which has a predefined meaning"
   ]
  },
  {
   "cell_type": "code",
   "execution_count": 3,
   "id": "4b681ae5-b95f-4e2c-8648-baa7507da18d",
   "metadata": {},
   "outputs": [
    {
     "name": "stdout",
     "output_type": "stream",
     "text": [
      "['False', 'None', 'True', 'and', 'as', 'assert', 'async', 'await', 'break', 'class', 'continue', 'def', 'del', 'elif', 'else', 'except', 'finally', 'for', 'from', 'global', 'if', 'import', 'in', 'is', 'lambda', 'nonlocal', 'not', 'or', 'pass', 'raise', 'return', 'try', 'while', 'with', 'yield']\n"
     ]
    }
   ],
   "source": [
    "import keyword\n",
    "print(keyword.kwlist)"
   ]
  },
  {
   "cell_type": "code",
   "execution_count": 5,
   "id": "6d8a1a38-c3b5-4dce-9360-deb609dfa03b",
   "metadata": {},
   "outputs": [
    {
     "name": "stdout",
     "output_type": "stream",
     "text": [
      "<class 'list'>\n"
     ]
    }
   ],
   "source": [
    "print(type(keyword.kwlist))"
   ]
  },
  {
   "cell_type": "code",
   "execution_count": 7,
   "id": "14ab8e89-9b05-42c2-b9b7-d9923aad861a",
   "metadata": {},
   "outputs": [
    {
     "name": "stdout",
     "output_type": "stream",
     "text": [
      "35\n"
     ]
    }
   ],
   "source": [
    "print(len(keyword.kwlist))"
   ]
  },
  {
   "cell_type": "markdown",
   "id": "2cdf362e-9a36-4122-b9fa-4e95a93db16f",
   "metadata": {},
   "source": [
    "# Identifiers In Python"
   ]
  },
  {
   "cell_type": "markdown",
   "id": "44b0e420-5a72-43c2-9eab-f7577a29eb00",
   "metadata": {},
   "source": [
    "Identifiers are the names given to the  entities like function , variables , classes etc"
   ]
  },
  {
   "cell_type": "code",
   "execution_count": 13,
   "id": "b12138de-16a9-4856-a899-b75e7936d527",
   "metadata": {},
   "outputs": [],
   "source": [
    "def itIsAfun():\n",
    "    print('h')\n",
    "userName='Radhakant Panda' # variable"
   ]
  },
  {
   "cell_type": "markdown",
   "id": "2bf88ba8-c929-4b07-b33f-1608736ae5bb",
   "metadata": {},
   "source": [
    "# Comments In Python"
   ]
  },
  {
   "cell_type": "markdown",
   "id": "c67dd1a8-3c86-498a-9d7c-4ab1e22b01af",
   "metadata": {},
   "source": [
    "comments are statements or block of statements which are ignored by the compiler or the interpreter  it is used by the programmer to describe"
   ]
  },
  {
   "cell_type": "code",
   "execution_count": 21,
   "id": "9a9fd3c5-11af-4e53-9157-86676eefb123",
   "metadata": {},
   "outputs": [],
   "source": [
    "# This is a comment or a single line comment"
   ]
  },
  {
   "cell_type": "code",
   "execution_count": 23,
   "id": "65aad358-bd92-4c16-9f7d-2ffec9fb5854",
   "metadata": {},
   "outputs": [
    {
     "data": {
      "text/plain": [
       "'\\nThis \\nis a \\nmultiline comment\\n'"
      ]
     },
     "execution_count": 23,
     "metadata": {},
     "output_type": "execute_result"
    }
   ],
   "source": [
    "'''\n",
    "This \n",
    "is a \n",
    "multiline comment\n",
    "'''"
   ]
  },
  {
   "cell_type": "markdown",
   "id": "c0e77c0f-9575-407c-913c-dcc70501d66f",
   "metadata": {},
   "source": [
    "# Python Statements"
   ]
  },
  {
   "cell_type": "markdown",
   "id": "f84db0b3-0a66-4f8d-9101-2e9aa99424c5",
   "metadata": {},
   "source": [
    "Python Statements are the instructions that a python interpreter can execute"
   ]
  },
  {
   "cell_type": "markdown",
   "id": "cca712cb-8fde-414d-aff9-fdc11ab52725",
   "metadata": {},
   "source": [
    "# Varribles"
   ]
  },
  {
   "cell_type": "markdown",
   "id": "6dadf619-4ed0-49cb-96ad-bce91f40e243",
   "metadata": {},
   "source": [
    "Location in memory which is used to store some data"
   ]
  },
  {
   "cell_type": "code",
   "execution_count": 29,
   "id": "cb0ba904-5cf5-49bb-a284-6466ea726a3a",
   "metadata": {},
   "outputs": [
    {
     "name": "stdout",
     "output_type": "stream",
     "text": [
      "10\n"
     ]
    }
   ],
   "source": [
    "a=10\n",
    "print(a)"
   ]
  },
  {
   "cell_type": "code",
   "execution_count": 33,
   "id": "b133587d-de1a-43e5-a42b-bde1774de523",
   "metadata": {},
   "outputs": [
    {
     "name": "stdout",
     "output_type": "stream",
     "text": [
      "140708783637576\n",
      "140708783637576\n"
     ]
    }
   ],
   "source": [
    "varA=10\n",
    "varB=10\n",
    "print(id(varA))\n",
    "print(id(varB))"
   ]
  },
  {
   "cell_type": "markdown",
   "id": "3d4b09d1-3b07-453b-8509-7504807a675e",
   "metadata": {},
   "source": [
    "# Multiple Assignments"
   ]
  },
  {
   "cell_type": "code",
   "execution_count": 36,
   "id": "e625b193-a059-4a79-ae70-bd70c6a67a27",
   "metadata": {},
   "outputs": [
    {
     "name": "stdout",
     "output_type": "stream",
     "text": [
      "2\n"
     ]
    }
   ],
   "source": [
    "a,b,c=1,2,3\n",
    "print(b)"
   ]
  },
  {
   "cell_type": "code",
   "execution_count": 38,
   "id": "81b4f09d-266e-4a34-9f9f-bfa6280b86ef",
   "metadata": {},
   "outputs": [
    {
     "name": "stdout",
     "output_type": "stream",
     "text": [
      "1\n"
     ]
    }
   ],
   "source": [
    "x=y=z=1\n",
    "print(x)"
   ]
  },
  {
   "cell_type": "markdown",
   "id": "eb9ce595-4e33-49a2-9bb0-bb064409be9a",
   "metadata": {},
   "source": [
    "# Storage Locations"
   ]
  },
  {
   "cell_type": "code",
   "execution_count": 45,
   "id": "df246ecf-11d1-4ae8-85f5-361c7a8407e7",
   "metadata": {},
   "outputs": [
    {
     "name": "stdout",
     "output_type": "stream",
     "text": [
      "140708783637352\n",
      "140708783637352\n",
      "140708783637384\n"
     ]
    }
   ],
   "source": [
    "x=3\n",
    "y=3\n",
    "print(id(x))\n",
    "print(id(y))\n",
    "y=4\n",
    "print(id(y))"
   ]
  },
  {
   "cell_type": "markdown",
   "id": "64261fc0-14e3-4a77-a8fd-8a07459c3384",
   "metadata": {},
   "source": [
    "# Data Types"
   ]
  },
  {
   "cell_type": "markdown",
   "id": "a9c6db88-e057-441a-91a6-0e990dd2f4e4",
   "metadata": {},
   "source": [
    "Every Value In Python has a data type since everything is an object in python programming , data types are actually classes \\\n",
    "and variables are instances(objects) of these classes"
   ]
  },
  {
   "cell_type": "markdown",
   "id": "f710f339-d682-4cad-884c-8007799f3037",
   "metadata": {},
   "source": [
    "# Numbers "
   ]
  },
  {
   "cell_type": "code",
   "execution_count": 50,
   "id": "31da1086-2af6-4e9f-8b9a-1c9a4d758410",
   "metadata": {},
   "outputs": [
    {
     "name": "stdout",
     "output_type": "stream",
     "text": [
      "10  is a type of  <class 'int'>\n",
      "12.56  is a type of  <class 'float'>\n",
      "(13+25j)  is a type of  <class 'complex'>\n"
     ]
    }
   ],
   "source": [
    "a=10\n",
    "print(a, \" is a type of \",type(a))\n",
    "a=12.56\n",
    "print(a, \" is a type of \",type(a))\n",
    "a=13+25j\n",
    "print(a, \" is a type of \",type(a))"
   ]
  },
  {
   "cell_type": "markdown",
   "id": "7e83445f-efbb-441c-ba20-40147a9cdd39",
   "metadata": {},
   "source": [
    "# Boolean Represents The Truth Value True or False"
   ]
  },
  {
   "cell_type": "code",
   "execution_count": 55,
   "id": "8a2af6b9-2ced-4807-90e0-0aa83afce74d",
   "metadata": {},
   "outputs": [
    {
     "name": "stdout",
     "output_type": "stream",
     "text": [
      "<class 'bool'>\n",
      "<class 'bool'>\n"
     ]
    }
   ],
   "source": [
    "a=True\n",
    "print(type(a))\n",
    "b=False\n",
    "print(type(b))"
   ]
  },
  {
   "cell_type": "markdown",
   "id": "c040d707-69d4-4941-841e-bc155ef4a864",
   "metadata": {},
   "source": [
    "# Strings "
   ]
  },
  {
   "cell_type": "markdown",
   "id": "34809b2f-7c5e-49be-a58d-8a1dfb8931e7",
   "metadata": {},
   "source": [
    "Sequence Of Unicode Characters"
   ]
  },
  {
   "cell_type": "code",
   "execution_count": 59,
   "id": "7ad8b95b-2df3-46e0-aa85-ef3f141bcdde",
   "metadata": {},
   "outputs": [
    {
     "name": "stdout",
     "output_type": "stream",
     "text": [
      "I am Learning AIML\n",
      "<class 'str'>\n"
     ]
    }
   ],
   "source": [
    "a='I am Learning AIML'\n",
    "print(a)\n",
    "print(type(a))"
   ]
  },
  {
   "cell_type": "code",
   "execution_count": 61,
   "id": "293e1e83-7460-4792-a194-ff2865877b18",
   "metadata": {},
   "outputs": [
    {
     "name": "stdout",
     "output_type": "stream",
     "text": [
      "I\n"
     ]
    }
   ],
   "source": [
    "print(a[0])"
   ]
  },
  {
   "cell_type": "code",
   "execution_count": 65,
   "id": "586390f1-3626-4e88-bdee-5a459c3484db",
   "metadata": {},
   "outputs": [
    {
     "name": "stdout",
     "output_type": "stream",
     "text": [
      "L\n"
     ]
    }
   ],
   "source": [
    "print(a[-1])"
   ]
  },
  {
   "cell_type": "code",
   "execution_count": 69,
   "id": "0c9b6dbe-0529-4e03-9c7f-de9b43a1b857",
   "metadata": {},
   "outputs": [
    {
     "name": "stdout",
     "output_type": "stream",
     "text": [
      "L\n"
     ]
    }
   ],
   "source": [
    "print(a[len(a)-1])"
   ]
  },
  {
   "cell_type": "code",
   "execution_count": 77,
   "id": "8736c6fe-502b-449b-a7e6-a3d0b5965ea9",
   "metadata": {},
   "outputs": [
    {
     "name": "stdout",
     "output_type": "stream",
     "text": [
      "m Learning AIML\n",
      "Le\n"
     ]
    }
   ],
   "source": [
    "# slicing\n",
    "print(a[3:])\n",
    "print(a[5:7])# 7 not included"
   ]
  },
  {
   "cell_type": "markdown",
   "id": "4165bd14-5c84-4e1b-8917-4b4177a47dd6",
   "metadata": {},
   "source": [
    "# Python List"
   ]
  },
  {
   "cell_type": "markdown",
   "id": "15ac8e89-7e29-4cb1-98d5-8b32a8ae8025",
   "metadata": {},
   "source": [
    "\n",
    "List in python is an Ordered sequence of items\\\n",
    "All the items in the list need not to be of same type"
   ]
  },
  {
   "cell_type": "code",
   "execution_count": 85,
   "id": "a37d9bf9-cc86-4c81-ad52-25de5f0e57ea",
   "metadata": {},
   "outputs": [
    {
     "name": "stdout",
     "output_type": "stream",
     "text": [
      "1  is of type  <class 'int'>\n",
      "12.3  is of type  <class 'float'>\n",
      "user  is of type  <class 'str'>\n",
      "True  is of type  <class 'bool'>\n"
     ]
    }
   ],
   "source": [
    "a=[1,12.3,'user',True]\n",
    "for i in a:\n",
    "    print(i,' is of type ',type(i))"
   ]
  },
  {
   "cell_type": "markdown",
   "id": "1d869f41-3ae9-423c-b578-5e3ac65bce1f",
   "metadata": {},
   "source": [
    "Lists are mutable"
   ]
  },
  {
   "cell_type": "code",
   "execution_count": 105,
   "id": "ea30d5fb-6399-45cc-acc7-51eb06d64fd2",
   "metadata": {},
   "outputs": [],
   "source": [
    "a[0]=10\n"
   ]
  },
  {
   "cell_type": "code",
   "execution_count": 90,
   "id": "86bfb781-857b-448b-abba-55da9b9a7d87",
   "metadata": {},
   "outputs": [
    {
     "name": "stdout",
     "output_type": "stream",
     "text": [
      "[10, 12.3, 'user', True]\n"
     ]
    }
   ],
   "source": [
    "print(a)"
   ]
  },
  {
   "cell_type": "markdown",
   "id": "2b317bcd-6e3e-4ee2-b8fc-027a5ea28fab",
   "metadata": {},
   "source": [
    "# TUPLES"
   ]
  },
  {
   "cell_type": "markdown",
   "id": "0029a5ac-016d-41ef-a1a6-17bf27ce2b7a",
   "metadata": {},
   "source": [
    "Tuples are also ordered sequence of items but they are immutable"
   ]
  },
  {
   "cell_type": "code",
   "execution_count": 94,
   "id": "ca559a4e-ed11-45b4-9e9f-5b3ff4cb2b19",
   "metadata": {},
   "outputs": [
    {
     "name": "stdout",
     "output_type": "stream",
     "text": [
      "(1, 'a', True)\n"
     ]
    }
   ],
   "source": [
    "t1=(1,'a',True)\n",
    "print(t1)"
   ]
  },
  {
   "cell_type": "code",
   "execution_count": 96,
   "id": "e9018dcc-4d64-4c35-98cd-684bac1e52e0",
   "metadata": {},
   "outputs": [
    {
     "name": "stdout",
     "output_type": "stream",
     "text": [
      "<class 'tuple'>\n"
     ]
    }
   ],
   "source": [
    "print(type(t1))"
   ]
  },
  {
   "cell_type": "code",
   "execution_count": 98,
   "id": "52050afc-905e-4610-8edd-d49d6d0d0dc8",
   "metadata": {},
   "outputs": [
    {
     "data": {
      "text/plain": [
       "'a'"
      ]
     },
     "execution_count": 98,
     "metadata": {},
     "output_type": "execute_result"
    }
   ],
   "source": [
    "t1[1]"
   ]
  },
  {
   "cell_type": "markdown",
   "id": "e52d83b2-fba8-45b2-912c-7a7d0aff322b",
   "metadata": {},
   "source": [
    "t1[1]=10 #Immutable in nature "
   ]
  },
  {
   "cell_type": "markdown",
   "id": "6e024182-8775-489d-8e2d-d83615bc7379",
   "metadata": {},
   "source": [
    "# SETS"
   ]
  },
  {
   "cell_type": "markdown",
   "id": "4d4aa588-f0b1-4283-bad7-f90818654855",
   "metadata": {},
   "source": [
    "Set is an unordered collection of elements\\\n",
    "Repetion of elements doesn't takes place in a set"
   ]
  },
  {
   "cell_type": "code",
   "execution_count": 112,
   "id": "315fe461-7321-4f2e-864c-cdae9d05c431",
   "metadata": {},
   "outputs": [
    {
     "name": "stdout",
     "output_type": "stream",
     "text": [
      "{1, 3, 4, 5, 6, 7, 8, 9, 22}\n"
     ]
    }
   ],
   "source": [
    "s1={1,1,22,3,4,5,6,7,8,9}\n",
    "print(s1)"
   ]
  },
  {
   "cell_type": "code",
   "execution_count": 116,
   "id": "f8f015ac-f5f3-4bfd-8f80-cd9e4ae65db7",
   "metadata": {},
   "outputs": [
    {
     "ename": "TypeError",
     "evalue": "'set' object is not subscriptable",
     "output_type": "error",
     "traceback": [
      "\u001b[1;31m---------------------------------------------------------------------------\u001b[0m",
      "\u001b[1;31mTypeError\u001b[0m                                 Traceback (most recent call last)",
      "Cell \u001b[1;32mIn[116], line 1\u001b[0m\n\u001b[1;32m----> 1\u001b[0m s1[\u001b[38;5;241m2\u001b[39m]\n",
      "\u001b[1;31mTypeError\u001b[0m: 'set' object is not subscriptable"
     ]
    }
   ],
   "source": [
    "s1[2] # sets are unordered"
   ]
  },
  {
   "cell_type": "markdown",
   "id": "c7941af2-fc53-428b-b856-e59197ea0360",
   "metadata": {},
   "source": [
    "# Python Dictionary"
   ]
  },
  {
   "cell_type": "markdown",
   "id": "26bfa5a2-92f7-4ae0-97bb-9c74b26d7154",
   "metadata": {},
   "source": [
    "It is an unordered collection of key value pairs"
   ]
  },
  {
   "cell_type": "code",
   "execution_count": 126,
   "id": "97f7778a-f04e-4568-bc0d-760c58043b19",
   "metadata": {},
   "outputs": [
    {
     "name": "stdout",
     "output_type": "stream",
     "text": [
      "{'a': 'apple', 'b': 'bat'}\n",
      "apple\n"
     ]
    }
   ],
   "source": [
    "dict={\n",
    "    \"a\":\"apple\",\n",
    "    \"b\":\"bat\"\n",
    "}\n",
    "print(dict)\n",
    "print(dict['a'])"
   ]
  },
  {
   "cell_type": "markdown",
   "id": "eb7d5cec-f342-48f3-9913-1b782a8c618f",
   "metadata": {},
   "source": [
    "# Conversion Of Data Types"
   ]
  },
  {
   "cell_type": "code",
   "execution_count": 129,
   "id": "4c1c5a9f-1f59-4b7b-b36f-62657160e6ab",
   "metadata": {},
   "outputs": [
    {
     "name": "stdout",
     "output_type": "stream",
     "text": [
      "12\n"
     ]
    }
   ],
   "source": [
    "print(int(12.33))"
   ]
  },
  {
   "cell_type": "code",
   "execution_count": 131,
   "id": "db3ae9f9-ce31-4773-81af-8a43e8d0f4cb",
   "metadata": {},
   "outputs": [
    {
     "name": "stdout",
     "output_type": "stream",
     "text": [
      "10.0\n"
     ]
    }
   ],
   "source": [
    "print(float(10))"
   ]
  },
  {
   "cell_type": "code",
   "execution_count": 133,
   "id": "f107036b-54f1-48de-98e3-31b2bc5fe309",
   "metadata": {},
   "outputs": [
    {
     "name": "stdout",
     "output_type": "stream",
     "text": [
      "10\n"
     ]
    }
   ],
   "source": [
    "print(str(10))"
   ]
  },
  {
   "cell_type": "code",
   "execution_count": 135,
   "id": "ced63abd-02fb-4e36-a0c1-aa7e31255690",
   "metadata": {},
   "outputs": [
    {
     "name": "stdout",
     "output_type": "stream",
     "text": [
      "10\n"
     ]
    }
   ],
   "source": [
    "print(int('10'))"
   ]
  },
  {
   "cell_type": "code",
   "execution_count": 143,
   "id": "725bed5e-6a37-431c-a225-6c69b878ab1f",
   "metadata": {},
   "outputs": [
    {
     "name": "stdout",
     "output_type": "stream",
     "text": [
      "10\n"
     ]
    }
   ],
   "source": [
    "print(int(float('10.36')))"
   ]
  },
  {
   "cell_type": "code",
   "execution_count": 155,
   "id": "01dfc302-8eeb-4c45-a0e7-b104c3ba10c8",
   "metadata": {},
   "outputs": [
    {
     "name": "stdout",
     "output_type": "stream",
     "text": [
      "(1, 2, 3, 4, 5)\n",
      "{1, 2, 3, 4, 5}\n",
      "{'H', 'o', 'd', 'l', 'W', 'r', 'e', ' '}\n",
      "('H', 'e', 'l', 'l', 'o', ' ', 'W', 'o', 'r', 'l', 'd')\n"
     ]
    }
   ],
   "source": [
    "tpl1=(1,2,3,4,5)\n",
    "print(tpl1)\n",
    "st1=set(tpl1)\n",
    "print(st1)\n",
    "a=\"Hello World\"\n",
    "tpla=set(a)\n",
    "print(tpla)\n",
    "seta=tuple(a)\n",
    "print(seta)"
   ]
  },
  {
   "cell_type": "code",
   "execution_count": 157,
   "id": "07f942d2-7e88-4e88-98f6-4d5955189f84",
   "metadata": {},
   "outputs": [
    {
     "name": "stdout",
     "output_type": "stream",
     "text": [
      "['a']\n"
     ]
    }
   ],
   "source": [
    "lista=list(\"a\")\n",
    "print(lista)"
   ]
  },
  {
   "cell_type": "markdown",
   "id": "7261fcee-00c1-43f1-83dc-8b655ca4f51e",
   "metadata": {},
   "source": [
    "# Input And Output In Python"
   ]
  },
  {
   "cell_type": "code",
   "execution_count": 160,
   "id": "d8169101-6797-4a6e-8aff-4daebd19a575",
   "metadata": {},
   "outputs": [],
   "source": [
    "# print() is the statement used to display the content"
   ]
  },
  {
   "cell_type": "code",
   "execution_count": 162,
   "id": "0b3d118e-b0be-48fe-b29f-07354990fbe2",
   "metadata": {},
   "outputs": [
    {
     "name": "stdout",
     "output_type": "stream",
     "text": [
      "My name is Radhakant Panda and my age is 22\n"
     ]
    }
   ],
   "source": [
    "name='Radhakant Panda'\n",
    "age=22\n",
    "print(f'My name is {name} and my age is {age}')"
   ]
  },
  {
   "cell_type": "code",
   "execution_count": 164,
   "id": "72fde63e-7a42-4826-a1a4-0e6acb0f90c1",
   "metadata": {},
   "outputs": [],
   "source": [
    "# input() is used to take user input"
   ]
  },
  {
   "cell_type": "code",
   "execution_count": 170,
   "id": "1cdc70ee-df9f-4fe5-9608-64e60803d310",
   "metadata": {},
   "outputs": [
    {
     "name": "stdin",
     "output_type": "stream",
     "text": [
      "Enter your name- Radhakant Panda\n"
     ]
    },
    {
     "name": "stdout",
     "output_type": "stream",
     "text": [
      "Radhakant Panda\n"
     ]
    }
   ],
   "source": [
    "nameofuser=input(\"Enter your name-\")\n",
    "print(nameofuser)"
   ]
  },
  {
   "cell_type": "markdown",
   "id": "6baedc79-1878-4cea-a5d1-abb21e721399",
   "metadata": {},
   "source": [
    "# OPERATORS"
   ]
  },
  {
   "cell_type": "markdown",
   "id": "d95dbaef-cc13-4835-8fb5-a31d5e6a290d",
   "metadata": {},
   "source": [
    "Operators are special symbols which are used to carryout arithmetic logical calculations in python"
   ]
  },
  {
   "cell_type": "markdown",
   "id": "3afcbfe2-b08c-4b80-808f-dea4abed1117",
   "metadata": {},
   "source": [
    "# Operators Type"
   ]
  },
  {
   "cell_type": "markdown",
   "id": "b27cd5a4-2fea-4ec0-9d6f-3bc385d8cb45",
   "metadata": {},
   "source": [
    "1.Arithmetic Operators\\\n",
    "2.Comparision Operator\\\n",
    "3.Logical Operaors\\\n",
    "4.Bitwise Operators\\\n",
    "5.Assignment Operators\\\n",
    "6.Special Operators"
   ]
  },
  {
   "cell_type": "markdown",
   "id": "7a32da31-a258-4d6d-a5b8-bae71f0122ee",
   "metadata": {},
   "source": [
    "## Identity Operators"
   ]
  },
  {
   "cell_type": "code",
   "execution_count": 177,
   "id": "9b8d4663-c48f-41ac-b224-62ef7cc89539",
   "metadata": {},
   "outputs": [],
   "source": [
    "# is and is not"
   ]
  },
  {
   "cell_type": "code",
   "execution_count": 179,
   "id": "5345501d-a33f-4dfa-8117-4377844bcad8",
   "metadata": {},
   "outputs": [
    {
     "name": "stdout",
     "output_type": "stream",
     "text": [
      "True\n"
     ]
    }
   ],
   "source": [
    "a=10\n",
    "b=10\n",
    "print(a is b)"
   ]
  },
  {
   "cell_type": "code",
   "execution_count": 183,
   "id": "1e892b96-2066-4687-a6d3-823bf6b09bc3",
   "metadata": {},
   "outputs": [
    {
     "name": "stdout",
     "output_type": "stream",
     "text": [
      "False\n",
      "True\n"
     ]
    }
   ],
   "source": [
    "a1=[10,11,12]\n",
    "b1=[10,11,12]\n",
    "print(a1 is b1)\n",
    "s1='pqrst'\n",
    "s2='pqrst'\n",
    "print(s1 is s2)"
   ]
  },
  {
   "cell_type": "markdown",
   "id": "937270d2-4669-4dab-9ca7-2d5879d2b9c2",
   "metadata": {},
   "source": [
    "## Membership Operators"
   ]
  },
  {
   "cell_type": "markdown",
   "id": "dc23f687-42fb-4c0c-89e5-ae5a2037bd85",
   "metadata": {},
   "source": [
    "in and not in are membership operators in python"
   ]
  },
  {
   "cell_type": "code",
   "execution_count": 193,
   "id": "74888c97-63d3-4eb4-a892-f02b625aecae",
   "metadata": {},
   "outputs": [
    {
     "name": "stdout",
     "output_type": "stream",
     "text": [
      "True\n",
      "True\n"
     ]
    }
   ],
   "source": [
    "a=[10,11,2,58]\n",
    "print(2 in a)\n",
    "print(100 not in a)"
   ]
  },
  {
   "cell_type": "code",
   "execution_count": 195,
   "id": "5455e1b9-6437-4b18-ba77-c9963fbd2fa7",
   "metadata": {},
   "outputs": [
    {
     "name": "stdout",
     "output_type": "stream",
     "text": [
      "True\n"
     ]
    }
   ],
   "source": [
    "dict={1:'a',2:'b'}\n",
    "print(1 in dict)"
   ]
  },
  {
   "cell_type": "markdown",
   "id": "921926c9-06be-4abf-ba66-bf5af3b127bd",
   "metadata": {},
   "source": [
    "# If-else"
   ]
  },
  {
   "cell_type": "code",
   "execution_count": 198,
   "id": "3f9f0615-1db5-4172-8309-62a174ed4e35",
   "metadata": {},
   "outputs": [
    {
     "name": "stdout",
     "output_type": "stream",
     "text": [
      "Hello\n"
     ]
    }
   ],
   "source": [
    "if True:\n",
    "    print(\"Hello\")"
   ]
  },
  {
   "cell_type": "markdown",
   "id": "4bdce892-3b78-4f1d-9e1e-4ef8b36ee71c",
   "metadata": {},
   "source": [
    "## Python program to find greatest of 3 numbers"
   ]
  },
  {
   "cell_type": "code",
   "execution_count": 207,
   "id": "546f920c-7bd7-4699-ad62-6a0e6ccbb288",
   "metadata": {},
   "outputs": [
    {
     "name": "stdin",
     "output_type": "stream",
     "text": [
      "Enter a number- 100\n",
      "Enter a number- 369854\n",
      "Enter a number- 15962\n"
     ]
    },
    {
     "name": "stdout",
     "output_type": "stream",
     "text": [
      "369854\n"
     ]
    }
   ],
   "source": [
    "numa=int(input('Enter a number-'))\n",
    "numb=int(input('Enter a number-'))\n",
    "numc=int(input('Enter a number-'))\n",
    "if numa>numb and numa>numc:\n",
    "    print(numa)\n",
    "elif numb>numa and numb>numc:\n",
    "    \n",
    "    print(numb)\n",
    "else:\n",
    "    print(numc)\n"
   ]
  },
  {
   "cell_type": "markdown",
   "id": "29513860-2cc2-4b43-a251-416b533789a3",
   "metadata": {},
   "source": [
    "# Python While loop"
   ]
  },
  {
   "cell_type": "markdown",
   "id": "66724bcd-4e34-4fed-82c3-7e45dc4c24db",
   "metadata": {},
   "source": [
    "find the product of all the numbers present in a list"
   ]
  },
  {
   "cell_type": "code",
   "execution_count": 211,
   "id": "fc30e0a1-b640-452d-8203-b45f04d4d8e4",
   "metadata": {},
   "outputs": [
    {
     "name": "stdout",
     "output_type": "stream",
     "text": [
      "5939122176000\n"
     ]
    }
   ],
   "source": [
    "listA=[25,36,78,45,12,12,136,96]\n",
    "index=0\n",
    "product=1\n",
    "while index<len(listA):\n",
    "    product*=listA[index]\n",
    "    index+=1\n",
    "print(product)"
   ]
  },
  {
   "cell_type": "markdown",
   "id": "2e1da542-f387-4766-b738-55ffeb5a7389",
   "metadata": {},
   "source": [
    "# While-Else"
   ]
  },
  {
   "cell_type": "code",
   "execution_count": 214,
   "id": "9334b074-fdab-4faf-a479-b3a1fb2c05d4",
   "metadata": {},
   "outputs": [
    {
     "name": "stdout",
     "output_type": "stream",
     "text": [
      "25\n",
      "36\n",
      "78\n",
      "45\n",
      "12\n",
      "12\n",
      "136\n",
      "96\n",
      "No item left\n"
     ]
    }
   ],
   "source": [
    "listA=[25,36,78,45,12,12,136,96]\n",
    "index=0\n",
    "sum=0\n",
    "while index<len(listA):\n",
    "    print(listA[index])\n",
    "    index+=1\n",
    "else:\n",
    "    print(\"No item left\")\n",
    "    "
   ]
  },
  {
   "cell_type": "markdown",
   "id": "ee12b448-efff-4f8a-b642-dd3761786849",
   "metadata": {},
   "source": [
    "## Python Program to check whether a given number if prime or not"
   ]
  },
  {
   "cell_type": "code",
   "execution_count": 223,
   "id": "300d49bc-97c8-4cdb-a888-ca5887faf7df",
   "metadata": {},
   "outputs": [
    {
     "name": "stdout",
     "output_type": "stream",
     "text": [
      "Prime\n"
     ]
    }
   ],
   "source": [
    "def checkPrime(num):\n",
    "    isPrime =True\n",
    "    for i in range(2,num):\n",
    "        if num%i==0:\n",
    "            isPrime=False\n",
    "            return -1\n",
    "    return 1\n",
    "status=checkPrime(19)\n",
    "if status==1:\n",
    "    print('Prime')\n",
    "else:\n",
    "    print('Not a Prime')\n",
    "            "
   ]
  },
  {
   "cell_type": "code",
   "execution_count": 227,
   "id": "a5dbc3cf-f87c-4cbf-ae0d-bf872c1018f4",
   "metadata": {},
   "outputs": [
    {
     "name": "stdout",
     "output_type": "stream",
     "text": [
      "[1, 2, 4, 3, 5, 0, 0, 0]\n"
     ]
    }
   ],
   "source": [
    "def movingZers(arr):\n",
    "    for i in range(len(arr)):\n",
    "        if arr[i]==0:\n",
    "            for j in range(i+1,len(arr)):\n",
    "                if arr[j]!=0:\n",
    "                    arr[i],arr[j]=arr[j],arr[i]\n",
    "                    break\n",
    "    return arr\n",
    "x=movingZers([1,2,0,4,3,0,5,0])\n",
    "print(x)"
   ]
  },
  {
   "cell_type": "code",
   "execution_count": 243,
   "id": "105148ea-c37c-45f7-b46e-79b5d81f1f41",
   "metadata": {},
   "outputs": [
    {
     "name": "stdout",
     "output_type": "stream",
     "text": [
      "[3, 5, 4, 1, 0, 0, 0, 0]\n"
     ]
    }
   ],
   "source": [
    "def optimisedmovingZers(arr):\n",
    "    zeroInd=-1\n",
    "    for i in range(len(arr)):\n",
    "        if arr[i]==0:\n",
    "            zeroInd=i\n",
    "            break\n",
    "    for i in range(zeroInd,len(arr)):\n",
    "        if arr[i]!=0:\n",
    "            arr[i],arr[zeroInd]=arr[zeroInd],arr[i]\n",
    "            zeroInd+=1\n",
    "    return arr\n",
    "            \n",
    "x=optimisedmovingZers([3,5,0,0,4,0,1,0])\n",
    "print(x)"
   ]
  },
  {
   "cell_type": "code",
   "execution_count": 251,
   "id": "8fdd8aba-c1be-42fb-8ca9-4bde5320ac7c",
   "metadata": {},
   "outputs": [
    {
     "name": "stdout",
     "output_type": "stream",
     "text": [
      "0\n",
      "4\n",
      "2\n",
      "-1\n"
     ]
    }
   ],
   "source": [
    "def bs(arr,k):\n",
    "    indexHolder=-1\n",
    "    startingIndex=0\n",
    "    endingIndex=len(arr)-1\n",
    "    while startingIndex <=endingIndex:\n",
    "        print(startingIndex)\n",
    "        print(endingIndex)\n",
    "        midIndex=int(startingIndex+(endingIndex-startingIndex)/2)\n",
    "        print(midIndex)\n",
    "        if arr[midIndex]==k:\n",
    "            isPresent=True\n",
    "            indexHolder=midIndex\n",
    "        elif arr[midIndex]>k:\n",
    "            endingIndex=midIndex-1\n",
    "        else:\n",
    "            startingIndex=midIndex+1\n",
    "        startingIndex+=1\n",
    "        endingIndex-=1\n",
    "    return indexHolder\n",
    "x=bs([1,2,3,4,5],4)\n",
    "print(x)"
   ]
  },
  {
   "cell_type": "code",
   "execution_count": 253,
   "id": "bb4111b3-117c-498b-8648-fc4defbf6389",
   "metadata": {},
   "outputs": [
    {
     "name": "stdout",
     "output_type": "stream",
     "text": [
      "a\n",
      "b\n",
      "c\n",
      "d\n"
     ]
    }
   ],
   "source": [
    "lsta=['a','b','c','d']\n",
    "for i in lsta:\n",
    "    print(i)"
   ]
  },
  {
   "cell_type": "markdown",
   "id": "6823d204-7707-472a-b0a7-d056c40550a1",
   "metadata": {},
   "source": [
    "# Python Program To Display All the Prime Numbers Within An Interval"
   ]
  },
  {
   "cell_type": "code",
   "execution_count": 278,
   "id": "da7e2bcb-5e8f-4442-b3a0-1e3f0057adf1",
   "metadata": {},
   "outputs": [
    {
     "name": "stdin",
     "output_type": "stream",
     "text": [
      "Enter the number- 3\n",
      "Enter the number- 11\n"
     ]
    },
    {
     "name": "stdout",
     "output_type": "stream",
     "text": [
      "3  is Prime\n",
      "5  is Prime\n",
      "7  is Prime\n",
      "11  is Prime\n"
     ]
    }
   ],
   "source": [
    "startNum=int(input(\"Enter the number-\"))\n",
    "endNum=int(input(\"Enter the number-\"))\n",
    "for i in range(startNum,endNum+1):\n",
    "    isPrime=True\n",
    "    \n",
    "    for j in range(2,i):\n",
    "        if i%j==0:\n",
    "            isPrime=False\n",
    "            break\n",
    "    if isPrime:\n",
    "        print(i,' is Prime')\n",
    "        "
   ]
  },
  {
   "cell_type": "markdown",
   "id": "5b664d72-ad78-4a77-b3d7-0ba10395aa91",
   "metadata": {},
   "source": [
    "# Python Control Flow Statements\n",
    "## Break And Continue"
   ]
  },
  {
   "cell_type": "markdown",
   "id": "cfd6aab1-b1e8-47fa-931e-123b9140aad3",
   "metadata": {},
   "source": [
    "Break statement is used to break out of the loop  whereas continue statement is used to skip an iteration"
   ]
  },
  {
   "cell_type": "code",
   "execution_count": 262,
   "id": "16de6976-0c63-4e94-99e0-b9e8e8c761f7",
   "metadata": {},
   "outputs": [
    {
     "name": "stdout",
     "output_type": "stream",
     "text": [
      "b\n",
      "d\n"
     ]
    }
   ],
   "source": [
    "for i in range(len(a)):\n",
    "    if i%2==0:\n",
    "        continue\n",
    "    else:\n",
    "        print(lsta[i])"
   ]
  },
  {
   "cell_type": "code",
   "execution_count": 266,
   "id": "2349f643-bfbd-40cc-8d6f-9864c9015cb8",
   "metadata": {},
   "outputs": [
    {
     "name": "stdout",
     "output_type": "stream",
     "text": [
      "0\n",
      "1\n",
      "2\n",
      "3\n",
      "4\n",
      "5\n",
      "6\n",
      "7\n",
      "8\n",
      "9\n",
      "10\n",
      "11\n",
      "12\n",
      "13\n",
      "14\n",
      "15\n",
      "16\n",
      "17\n",
      "18\n",
      "19\n",
      "20\n",
      "21\n",
      "22\n",
      "23\n",
      "24\n",
      "25\n",
      "26\n",
      "27\n",
      "28\n",
      "29\n",
      "30\n",
      "31\n",
      "32\n",
      "33\n",
      "34\n",
      "35\n",
      "36\n",
      "37\n",
      "38\n",
      "39\n",
      "40\n",
      "41\n",
      "42\n",
      "43\n",
      "44\n",
      "45\n",
      "46\n",
      "47\n",
      "48\n",
      "49\n"
     ]
    }
   ],
   "source": [
    "for i in range(100):\n",
    "    if i==50:\n",
    "        break\n",
    "    else:\n",
    "        print(i)"
   ]
  },
  {
   "cell_type": "code",
   "execution_count": null,
   "id": "58913870-0f13-4386-8872-c89d7c0eb573",
   "metadata": {},
   "outputs": [],
   "source": []
  }
 ],
 "metadata": {
  "kernelspec": {
   "display_name": "Python 3 (ipykernel)",
   "language": "python",
   "name": "python3"
  },
  "language_info": {
   "codemirror_mode": {
    "name": "ipython",
    "version": 3
   },
   "file_extension": ".py",
   "mimetype": "text/x-python",
   "name": "python",
   "nbconvert_exporter": "python",
   "pygments_lexer": "ipython3",
   "version": "3.11.7"
  }
 },
 "nbformat": 4,
 "nbformat_minor": 5
}
